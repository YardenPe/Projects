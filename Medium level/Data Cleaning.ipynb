{
 "cells": [
  {
   "cell_type": "code",
   "execution_count": 174,
   "id": "aec15574-4257-4ded-abf2-28efb896fb19",
   "metadata": {},
   "outputs": [],
   "source": [
    "import pandas as pd\n",
    "import numpy as np\n",
    "import matplotlib.pyplot as plt"
   ]
  },
  {
   "cell_type": "code",
   "execution_count": 175,
   "id": "9c6fcdf6-c439-4950-8878-e70ec4fa59e1",
   "metadata": {},
   "outputs": [
    {
     "data": {
      "text/html": [
       "<div>\n",
       "<style scoped>\n",
       "    .dataframe tbody tr th:only-of-type {\n",
       "        vertical-align: middle;\n",
       "    }\n",
       "\n",
       "    .dataframe tbody tr th {\n",
       "        vertical-align: top;\n",
       "    }\n",
       "\n",
       "    .dataframe thead th {\n",
       "        text-align: right;\n",
       "    }\n",
       "</style>\n",
       "<table border=\"1\" class=\"dataframe\">\n",
       "  <thead>\n",
       "    <tr style=\"text-align: right;\">\n",
       "      <th></th>\n",
       "      <th>name</th>\n",
       "      <th>author</th>\n",
       "      <th>narrator</th>\n",
       "      <th>time</th>\n",
       "      <th>releasedate</th>\n",
       "      <th>language</th>\n",
       "      <th>stars</th>\n",
       "      <th>price</th>\n",
       "    </tr>\n",
       "  </thead>\n",
       "  <tbody>\n",
       "    <tr>\n",
       "      <th>0</th>\n",
       "      <td>Geronimo Stilton #11 &amp; #12</td>\n",
       "      <td>Writtenby:GeronimoStilton</td>\n",
       "      <td>Narratedby:BillLobely</td>\n",
       "      <td>2 hrs and 20 mins</td>\n",
       "      <td>04-08-08</td>\n",
       "      <td>English</td>\n",
       "      <td>5 out of 5 stars34 ratings</td>\n",
       "      <td>468.00</td>\n",
       "    </tr>\n",
       "    <tr>\n",
       "      <th>1</th>\n",
       "      <td>The Burning Maze</td>\n",
       "      <td>Writtenby:RickRiordan</td>\n",
       "      <td>Narratedby:RobbieDaymond</td>\n",
       "      <td>13 hrs and 8 mins</td>\n",
       "      <td>01-05-18</td>\n",
       "      <td>English</td>\n",
       "      <td>4.5 out of 5 stars41 ratings</td>\n",
       "      <td>820.00</td>\n",
       "    </tr>\n",
       "    <tr>\n",
       "      <th>2</th>\n",
       "      <td>The Deep End</td>\n",
       "      <td>Writtenby:JeffKinney</td>\n",
       "      <td>Narratedby:DanRussell</td>\n",
       "      <td>2 hrs and 3 mins</td>\n",
       "      <td>06-11-20</td>\n",
       "      <td>English</td>\n",
       "      <td>4.5 out of 5 stars38 ratings</td>\n",
       "      <td>410.00</td>\n",
       "    </tr>\n",
       "    <tr>\n",
       "      <th>3</th>\n",
       "      <td>Daughter of the Deep</td>\n",
       "      <td>Writtenby:RickRiordan</td>\n",
       "      <td>Narratedby:SoneelaNankani</td>\n",
       "      <td>11 hrs and 16 mins</td>\n",
       "      <td>05-10-21</td>\n",
       "      <td>English</td>\n",
       "      <td>4.5 out of 5 stars12 ratings</td>\n",
       "      <td>615.00</td>\n",
       "    </tr>\n",
       "    <tr>\n",
       "      <th>4</th>\n",
       "      <td>The Lightning Thief: Percy Jackson, Book 1</td>\n",
       "      <td>Writtenby:RickRiordan</td>\n",
       "      <td>Narratedby:JesseBernstein</td>\n",
       "      <td>10 hrs</td>\n",
       "      <td>13-01-10</td>\n",
       "      <td>English</td>\n",
       "      <td>4.5 out of 5 stars181 ratings</td>\n",
       "      <td>820.00</td>\n",
       "    </tr>\n",
       "  </tbody>\n",
       "</table>\n",
       "</div>"
      ],
      "text/plain": [
       "                                         name                     author  \\\n",
       "0                  Geronimo Stilton #11 & #12  Writtenby:GeronimoStilton   \n",
       "1                            The Burning Maze      Writtenby:RickRiordan   \n",
       "2                                The Deep End       Writtenby:JeffKinney   \n",
       "3                        Daughter of the Deep      Writtenby:RickRiordan   \n",
       "4  The Lightning Thief: Percy Jackson, Book 1      Writtenby:RickRiordan   \n",
       "\n",
       "                    narrator                time releasedate language  \\\n",
       "0      Narratedby:BillLobely   2 hrs and 20 mins    04-08-08  English   \n",
       "1   Narratedby:RobbieDaymond   13 hrs and 8 mins    01-05-18  English   \n",
       "2      Narratedby:DanRussell    2 hrs and 3 mins    06-11-20  English   \n",
       "3  Narratedby:SoneelaNankani  11 hrs and 16 mins    05-10-21  English   \n",
       "4  Narratedby:JesseBernstein              10 hrs    13-01-10  English   \n",
       "\n",
       "                           stars   price  \n",
       "0     5 out of 5 stars34 ratings  468.00  \n",
       "1   4.5 out of 5 stars41 ratings  820.00  \n",
       "2   4.5 out of 5 stars38 ratings  410.00  \n",
       "3   4.5 out of 5 stars12 ratings  615.00  \n",
       "4  4.5 out of 5 stars181 ratings  820.00  "
      ]
     },
     "execution_count": 175,
     "metadata": {},
     "output_type": "execute_result"
    }
   ],
   "source": [
    "df = pd.read_csv(r\"C:\\Users\\yarde\\Downloads\\audible_raw.csv\")\n",
    "df.head()"
   ]
  },
  {
   "cell_type": "code",
   "execution_count": 176,
   "id": "d8fe69d2-612b-473d-a8fa-a563d66b2d66",
   "metadata": {},
   "outputs": [
    {
     "name": "stdout",
     "output_type": "stream",
     "text": [
      "<class 'pandas.core.frame.DataFrame'>\n",
      "RangeIndex: 87489 entries, 0 to 87488\n",
      "Data columns (total 8 columns):\n",
      " #   Column       Non-Null Count  Dtype \n",
      "---  ------       --------------  ----- \n",
      " 0   name         87489 non-null  object\n",
      " 1   author       87489 non-null  object\n",
      " 2   narrator     87489 non-null  object\n",
      " 3   time         87489 non-null  object\n",
      " 4   releasedate  87489 non-null  object\n",
      " 5   language     87489 non-null  object\n",
      " 6   stars        87489 non-null  object\n",
      " 7   price        87489 non-null  object\n",
      "dtypes: object(8)\n",
      "memory usage: 5.3+ MB\n"
     ]
    }
   ],
   "source": [
    "df.info()"
   ]
  },
  {
   "cell_type": "markdown",
   "id": "028d57e4-5321-4cd0-908a-a8ef4d64b75a",
   "metadata": {},
   "source": [
    "***Clean text data in Author and Narrator columns***"
   ]
  },
  {
   "cell_type": "code",
   "execution_count": 177,
   "id": "b80ffa44-7b81-4e67-a66c-943b247cc59a",
   "metadata": {},
   "outputs": [
    {
     "data": {
      "text/html": [
       "<div>\n",
       "<style scoped>\n",
       "    .dataframe tbody tr th:only-of-type {\n",
       "        vertical-align: middle;\n",
       "    }\n",
       "\n",
       "    .dataframe tbody tr th {\n",
       "        vertical-align: top;\n",
       "    }\n",
       "\n",
       "    .dataframe thead th {\n",
       "        text-align: right;\n",
       "    }\n",
       "</style>\n",
       "<table border=\"1\" class=\"dataframe\">\n",
       "  <thead>\n",
       "    <tr style=\"text-align: right;\">\n",
       "      <th></th>\n",
       "      <th>name</th>\n",
       "      <th>author</th>\n",
       "      <th>narrator</th>\n",
       "      <th>time</th>\n",
       "      <th>releasedate</th>\n",
       "      <th>language</th>\n",
       "      <th>stars</th>\n",
       "      <th>price</th>\n",
       "    </tr>\n",
       "  </thead>\n",
       "  <tbody>\n",
       "    <tr>\n",
       "      <th>0</th>\n",
       "      <td>Geronimo Stilton #11 &amp; #12</td>\n",
       "      <td>GeronimoStilton</td>\n",
       "      <td>BillLobely</td>\n",
       "      <td>2 hrs and 20 mins</td>\n",
       "      <td>04-08-08</td>\n",
       "      <td>English</td>\n",
       "      <td>5 out of 5 stars34 ratings</td>\n",
       "      <td>468.00</td>\n",
       "    </tr>\n",
       "    <tr>\n",
       "      <th>1</th>\n",
       "      <td>The Burning Maze</td>\n",
       "      <td>RickRiordan</td>\n",
       "      <td>RobbieDaymond</td>\n",
       "      <td>13 hrs and 8 mins</td>\n",
       "      <td>01-05-18</td>\n",
       "      <td>English</td>\n",
       "      <td>4.5 out of 5 stars41 ratings</td>\n",
       "      <td>820.00</td>\n",
       "    </tr>\n",
       "    <tr>\n",
       "      <th>2</th>\n",
       "      <td>The Deep End</td>\n",
       "      <td>JeffKinney</td>\n",
       "      <td>DanRussell</td>\n",
       "      <td>2 hrs and 3 mins</td>\n",
       "      <td>06-11-20</td>\n",
       "      <td>English</td>\n",
       "      <td>4.5 out of 5 stars38 ratings</td>\n",
       "      <td>410.00</td>\n",
       "    </tr>\n",
       "    <tr>\n",
       "      <th>3</th>\n",
       "      <td>Daughter of the Deep</td>\n",
       "      <td>RickRiordan</td>\n",
       "      <td>SoneelaNankani</td>\n",
       "      <td>11 hrs and 16 mins</td>\n",
       "      <td>05-10-21</td>\n",
       "      <td>English</td>\n",
       "      <td>4.5 out of 5 stars12 ratings</td>\n",
       "      <td>615.00</td>\n",
       "    </tr>\n",
       "    <tr>\n",
       "      <th>4</th>\n",
       "      <td>The Lightning Thief: Percy Jackson, Book 1</td>\n",
       "      <td>RickRiordan</td>\n",
       "      <td>JesseBernstein</td>\n",
       "      <td>10 hrs</td>\n",
       "      <td>13-01-10</td>\n",
       "      <td>English</td>\n",
       "      <td>4.5 out of 5 stars181 ratings</td>\n",
       "      <td>820.00</td>\n",
       "    </tr>\n",
       "  </tbody>\n",
       "</table>\n",
       "</div>"
      ],
      "text/plain": [
       "                                         name           author  \\\n",
       "0                  Geronimo Stilton #11 & #12  GeronimoStilton   \n",
       "1                            The Burning Maze      RickRiordan   \n",
       "2                                The Deep End       JeffKinney   \n",
       "3                        Daughter of the Deep      RickRiordan   \n",
       "4  The Lightning Thief: Percy Jackson, Book 1      RickRiordan   \n",
       "\n",
       "         narrator                time releasedate language  \\\n",
       "0      BillLobely   2 hrs and 20 mins    04-08-08  English   \n",
       "1   RobbieDaymond   13 hrs and 8 mins    01-05-18  English   \n",
       "2      DanRussell    2 hrs and 3 mins    06-11-20  English   \n",
       "3  SoneelaNankani  11 hrs and 16 mins    05-10-21  English   \n",
       "4  JesseBernstein              10 hrs    13-01-10  English   \n",
       "\n",
       "                           stars   price  \n",
       "0     5 out of 5 stars34 ratings  468.00  \n",
       "1   4.5 out of 5 stars41 ratings  820.00  \n",
       "2   4.5 out of 5 stars38 ratings  410.00  \n",
       "3   4.5 out of 5 stars12 ratings  615.00  \n",
       "4  4.5 out of 5 stars181 ratings  820.00  "
      ]
     },
     "execution_count": 177,
     "metadata": {},
     "output_type": "execute_result"
    }
   ],
   "source": [
    "df['author']= df['author'].str.replace('Writtenby:','')\n",
    "df['narrator']= df['narrator'].str.replace('Narratedby:','')\n",
    "df.head()"
   ]
  },
  {
   "cell_type": "markdown",
   "id": "6582a182-96e3-40ed-ac37-9d31b39e987e",
   "metadata": {},
   "source": [
    "***Extract number of stars and ratings from Stars column***"
   ]
  },
  {
   "cell_type": "code",
   "execution_count": 178,
   "id": "de5aaaf1-6c0e-4fb9-8fe6-8a8ec9c23fd6",
   "metadata": {},
   "outputs": [
    {
     "data": {
      "text/plain": [
       "5914     Not rated yet\n",
       "45059    Not rated yet\n",
       "4050     Not rated yet\n",
       "74589    Not rated yet\n",
       "76212    Not rated yet\n",
       "55693    Not rated yet\n",
       "59965    Not rated yet\n",
       "19308    Not rated yet\n",
       "42627    Not rated yet\n",
       "46097    Not rated yet\n",
       "Name: stars, dtype: object"
      ]
     },
     "execution_count": 178,
     "metadata": {},
     "output_type": "execute_result"
    }
   ],
   "source": [
    "df['stars'].sample(n=10)\n",
    "# Not rated yet - not everything is rated"
   ]
  },
  {
   "cell_type": "code",
   "execution_count": 179,
   "id": "7473736a-813c-4805-93af-a2effca4e971",
   "metadata": {},
   "outputs": [
    {
     "name": "stderr",
     "output_type": "stream",
     "text": [
      "<>:3: SyntaxWarning: invalid escape sequence '\\d'\n",
      "<>:4: SyntaxWarning: invalid escape sequence '\\d'\n",
      "<>:3: SyntaxWarning: invalid escape sequence '\\d'\n",
      "<>:4: SyntaxWarning: invalid escape sequence '\\d'\n",
      "C:\\Users\\yarde\\AppData\\Local\\Temp\\ipykernel_28412\\4167988440.py:3: SyntaxWarning: invalid escape sequence '\\d'\n",
      "  df['rating_stars'] = df['stars'].str.extract('^([\\d.]+)').astype(float)\n",
      "C:\\Users\\yarde\\AppData\\Local\\Temp\\ipykernel_28412\\4167988440.py:4: SyntaxWarning: invalid escape sequence '\\d'\n",
      "  df['n_ratings'] = df['stars'].str.replace(',','').str.extract('(\\d+) rating').astype(float)\n",
      "C:\\Users\\yarde\\AppData\\Local\\Temp\\ipykernel_28412\\4167988440.py:1: FutureWarning: A value is trying to be set on a copy of a DataFrame or Series through chained assignment using an inplace method.\n",
      "The behavior will change in pandas 3.0. This inplace method will never work because the intermediate object on which we are setting values always behaves as a copy.\n",
      "\n",
      "For example, when doing 'df[col].method(value, inplace=True)', try using 'df.method({col: value}, inplace=True)' or df[col] = df[col].method(value) instead, to perform the operation inplace on the original object.\n",
      "\n",
      "\n",
      "  df['stars'].replace('Not rated yet', np.nan, inplace=True)\n"
     ]
    },
    {
     "data": {
      "text/html": [
       "<div>\n",
       "<style scoped>\n",
       "    .dataframe tbody tr th:only-of-type {\n",
       "        vertical-align: middle;\n",
       "    }\n",
       "\n",
       "    .dataframe tbody tr th {\n",
       "        vertical-align: top;\n",
       "    }\n",
       "\n",
       "    .dataframe thead th {\n",
       "        text-align: right;\n",
       "    }\n",
       "</style>\n",
       "<table border=\"1\" class=\"dataframe\">\n",
       "  <thead>\n",
       "    <tr style=\"text-align: right;\">\n",
       "      <th></th>\n",
       "      <th>rating_stars</th>\n",
       "      <th>n_ratings</th>\n",
       "    </tr>\n",
       "  </thead>\n",
       "  <tbody>\n",
       "    <tr>\n",
       "      <th>0</th>\n",
       "      <td>5.0</td>\n",
       "      <td>34.0</td>\n",
       "    </tr>\n",
       "    <tr>\n",
       "      <th>1</th>\n",
       "      <td>4.5</td>\n",
       "      <td>41.0</td>\n",
       "    </tr>\n",
       "    <tr>\n",
       "      <th>2</th>\n",
       "      <td>4.5</td>\n",
       "      <td>38.0</td>\n",
       "    </tr>\n",
       "    <tr>\n",
       "      <th>3</th>\n",
       "      <td>4.5</td>\n",
       "      <td>12.0</td>\n",
       "    </tr>\n",
       "    <tr>\n",
       "      <th>4</th>\n",
       "      <td>4.5</td>\n",
       "      <td>181.0</td>\n",
       "    </tr>\n",
       "    <tr>\n",
       "      <th>...</th>\n",
       "      <td>...</td>\n",
       "      <td>...</td>\n",
       "    </tr>\n",
       "    <tr>\n",
       "      <th>87484</th>\n",
       "      <td>NaN</td>\n",
       "      <td>NaN</td>\n",
       "    </tr>\n",
       "    <tr>\n",
       "      <th>87485</th>\n",
       "      <td>NaN</td>\n",
       "      <td>NaN</td>\n",
       "    </tr>\n",
       "    <tr>\n",
       "      <th>87486</th>\n",
       "      <td>NaN</td>\n",
       "      <td>NaN</td>\n",
       "    </tr>\n",
       "    <tr>\n",
       "      <th>87487</th>\n",
       "      <td>NaN</td>\n",
       "      <td>NaN</td>\n",
       "    </tr>\n",
       "    <tr>\n",
       "      <th>87488</th>\n",
       "      <td>NaN</td>\n",
       "      <td>NaN</td>\n",
       "    </tr>\n",
       "  </tbody>\n",
       "</table>\n",
       "<p>87489 rows × 2 columns</p>\n",
       "</div>"
      ],
      "text/plain": [
       "       rating_stars  n_ratings\n",
       "0               5.0       34.0\n",
       "1               4.5       41.0\n",
       "2               4.5       38.0\n",
       "3               4.5       12.0\n",
       "4               4.5      181.0\n",
       "...             ...        ...\n",
       "87484           NaN        NaN\n",
       "87485           NaN        NaN\n",
       "87486           NaN        NaN\n",
       "87487           NaN        NaN\n",
       "87488           NaN        NaN\n",
       "\n",
       "[87489 rows x 2 columns]"
      ]
     },
     "execution_count": 179,
     "metadata": {},
     "output_type": "execute_result"
    }
   ],
   "source": [
    "df['stars'].replace('Not rated yet', np.nan, inplace=True)\n",
    "# extract the numerical part (including decimals) from the beginning of each string in the column, matches any digit or a dot\n",
    "df['rating_stars'] = df['stars'].str.extract('^([\\d.]+)').astype(float)\n",
    "df['n_ratings'] = df['stars'].str.replace(',','').str.extract('(\\d+) rating').astype(float)\n",
    "df[['rating_stars','n_ratings']]"
   ]
  },
  {
   "cell_type": "code",
   "execution_count": 180,
   "id": "022b27f5-96dc-4f90-8d4e-d156c8499ebd",
   "metadata": {},
   "outputs": [],
   "source": [
    "#axis=1 drop column not row\n",
    "df.drop(columns=['stars'], axis=1, inplace=True)"
   ]
  },
  {
   "cell_type": "markdown",
   "id": "bc634639-6792-4729-af94-b1e1a1720c8e",
   "metadata": {},
   "source": [
    "***Change data types***"
   ]
  },
  {
   "cell_type": "code",
   "execution_count": 181,
   "id": "e8412b58-d1ca-47f7-9f42-508eb66d6782",
   "metadata": {},
   "outputs": [
    {
     "data": {
      "text/plain": [
       "40959      258.00\n",
       "25802      755.00\n",
       "4858       149.00\n",
       "71537    1,005.00\n",
       "18568      190.00\n",
       "82332      836.00\n",
       "14065      166.00\n",
       "69098      586.00\n",
       "6244       979.00\n",
       "42913      773.00\n",
       "Name: price, dtype: object"
      ]
     },
     "execution_count": 181,
     "metadata": {},
     "output_type": "execute_result"
    }
   ],
   "source": [
    "df['price'].sample(n=10)"
   ]
  },
  {
   "cell_type": "code",
   "execution_count": 182,
   "id": "b34005cc-6458-4350-a464-656eb6c22ec1",
   "metadata": {},
   "outputs": [
    {
     "data": {
      "text/plain": [
       "dtype('float64')"
      ]
     },
     "execution_count": 182,
     "metadata": {},
     "output_type": "execute_result"
    }
   ],
   "source": [
    "df['price'] = df['price'].str.replace(',','')\n",
    "df['price'] = df['price'].str.replace('Free','0')\n",
    "df['price'] = df['price'].astype(float)\n",
    "df['price'].dtype"
   ]
  },
  {
   "cell_type": "code",
   "execution_count": 183,
   "id": "4ae5bfe6-fff6-48dc-8c9f-df5eb102c361",
   "metadata": {},
   "outputs": [
    {
     "data": {
      "text/plain": [
       "array([5. , 4.5, 4. , nan, 3.5, 3. , 1. , 2. , 2.5, 1.5])"
      ]
     },
     "execution_count": 183,
     "metadata": {},
     "output_type": "execute_result"
    }
   ],
   "source": [
    "df['rating_stars'].unique()"
   ]
  },
  {
   "cell_type": "code",
   "execution_count": 184,
   "id": "e92cab67-0427-4343-9ee8-04407ade3e94",
   "metadata": {},
   "outputs": [],
   "source": [
    "df['rating_stars'] = df['rating_stars'].astype('category')"
   ]
  },
  {
   "cell_type": "code",
   "execution_count": 185,
   "id": "a84fd45f-2cfd-48e6-a1dd-3deea52c1c9a",
   "metadata": {},
   "outputs": [
    {
     "name": "stderr",
     "output_type": "stream",
     "text": [
      "C:\\Users\\yarde\\AppData\\Local\\Temp\\ipykernel_28412\\1622218703.py:1: UserWarning: Could not infer format, so each element will be parsed individually, falling back to `dateutil`. To ensure parsing is consistent and as-expected, please specify a format.\n",
      "  df['releasedate'] = pd.to_datetime(df['releasedate'])\n"
     ]
    },
    {
     "name": "stdout",
     "output_type": "stream",
     "text": [
      "<class 'pandas.core.frame.DataFrame'>\n",
      "RangeIndex: 87489 entries, 0 to 87488\n",
      "Data columns (total 9 columns):\n",
      " #   Column        Non-Null Count  Dtype         \n",
      "---  ------        --------------  -----         \n",
      " 0   name          87489 non-null  object        \n",
      " 1   author        87489 non-null  object        \n",
      " 2   narrator      87489 non-null  object        \n",
      " 3   time          87489 non-null  object        \n",
      " 4   releasedate   87489 non-null  datetime64[ns]\n",
      " 5   language      87489 non-null  object        \n",
      " 6   price         87489 non-null  float64       \n",
      " 7   rating_stars  15072 non-null  category      \n",
      " 8   n_ratings     15072 non-null  float64       \n",
      "dtypes: category(1), datetime64[ns](1), float64(2), object(5)\n",
      "memory usage: 5.4+ MB\n"
     ]
    }
   ],
   "source": [
    "df['releasedate'] = pd.to_datetime(df['releasedate'])\n",
    "df.info()"
   ]
  },
  {
   "cell_type": "code",
   "execution_count": 186,
   "id": "90b99892-9d0f-4a3b-8042-08a7ca508e7a",
   "metadata": {},
   "outputs": [
    {
     "data": {
      "text/plain": [
       "35625     6 hrs and 27 mins\n",
       "85331     7 hrs and 48 mins\n",
       "19128      2 hrs and 9 mins\n",
       "66899     6 hrs and 23 mins\n",
       "54439    14 hrs and 16 mins\n",
       "40864      5 hrs and 6 mins\n",
       "17930     8 hrs and 45 mins\n",
       "10029                6 mins\n",
       "86452      1 hr and 24 mins\n",
       "38104    11 hrs and 50 mins\n",
       "Name: time, dtype: object"
      ]
     },
     "execution_count": 186,
     "metadata": {},
     "output_type": "execute_result"
    }
   ],
   "source": [
    "df['time'].sample(10)"
   ]
  },
  {
   "cell_type": "code",
   "execution_count": 187,
   "id": "93075115-99fe-4fdd-b99b-2e07a25b4335",
   "metadata": {},
   "outputs": [],
   "source": [
    "df['time']= df['time'].str.replace('Less than 1 minute', '1 min')\n",
    "#fillna for the NaN\n",
    "df['time']= df['time'].replace('hrs', 'hr')\n",
    "df['time']= df['time'].replace('mins', 'min')"
   ]
  },
  {
   "cell_type": "code",
   "execution_count": 188,
   "id": "63555955-8418-4f13-8a4c-b24ac2e3d733",
   "metadata": {},
   "outputs": [
    {
     "data": {
      "text/html": [
       "<div>\n",
       "<style scoped>\n",
       "    .dataframe tbody tr th:only-of-type {\n",
       "        vertical-align: middle;\n",
       "    }\n",
       "\n",
       "    .dataframe tbody tr th {\n",
       "        vertical-align: top;\n",
       "    }\n",
       "\n",
       "    .dataframe thead th {\n",
       "        text-align: right;\n",
       "    }\n",
       "</style>\n",
       "<table border=\"1\" class=\"dataframe\">\n",
       "  <thead>\n",
       "    <tr style=\"text-align: right;\">\n",
       "      <th></th>\n",
       "      <th>time_mins</th>\n",
       "    </tr>\n",
       "  </thead>\n",
       "  <tbody>\n",
       "    <tr>\n",
       "      <th>0</th>\n",
       "      <td>140</td>\n",
       "    </tr>\n",
       "    <tr>\n",
       "      <th>1</th>\n",
       "      <td>788</td>\n",
       "    </tr>\n",
       "    <tr>\n",
       "      <th>2</th>\n",
       "      <td>123</td>\n",
       "    </tr>\n",
       "    <tr>\n",
       "      <th>3</th>\n",
       "      <td>676</td>\n",
       "    </tr>\n",
       "    <tr>\n",
       "      <th>4</th>\n",
       "      <td>600</td>\n",
       "    </tr>\n",
       "    <tr>\n",
       "      <th>...</th>\n",
       "      <td>...</td>\n",
       "    </tr>\n",
       "    <tr>\n",
       "      <th>87484</th>\n",
       "      <td>454</td>\n",
       "    </tr>\n",
       "    <tr>\n",
       "      <th>87485</th>\n",
       "      <td>607</td>\n",
       "    </tr>\n",
       "    <tr>\n",
       "      <th>87486</th>\n",
       "      <td>1144</td>\n",
       "    </tr>\n",
       "    <tr>\n",
       "      <th>87487</th>\n",
       "      <td>248</td>\n",
       "    </tr>\n",
       "    <tr>\n",
       "      <th>87488</th>\n",
       "      <td>361</td>\n",
       "    </tr>\n",
       "  </tbody>\n",
       "</table>\n",
       "<p>87489 rows × 1 columns</p>\n",
       "</div>"
      ],
      "text/plain": [
       "       time_mins\n",
       "0            140\n",
       "1            788\n",
       "2            123\n",
       "3            676\n",
       "4            600\n",
       "...          ...\n",
       "87484        454\n",
       "87485        607\n",
       "87486       1144\n",
       "87487        248\n",
       "87488        361\n",
       "\n",
       "[87489 rows x 1 columns]"
      ]
     },
     "execution_count": 188,
     "metadata": {},
     "output_type": "execute_result"
    }
   ],
   "source": [
    "hours = df['time'].str.extract(r'(\\d+) hr').fillna(0).astype(int)\n",
    "minutes = df['time'].str.extract(r'(\\d+) min').fillna(0).astype(int)\n",
    "\n",
    "df['time_mins'] = (hours * 60) + minutes\n",
    "df[['time_mins']]"
   ]
  },
  {
   "cell_type": "code",
   "execution_count": 189,
   "id": "f06ff870-65bb-4bd8-98e1-bbf984bd2521",
   "metadata": {},
   "outputs": [],
   "source": [
    "df.drop(columns=['time'], axis=1, inplace=True)"
   ]
  },
  {
   "cell_type": "markdown",
   "id": "0b7e545d-d54c-4830-8595-b8d1791b4a35",
   "metadata": {},
   "source": [
    "***Check data ranges***"
   ]
  },
  {
   "cell_type": "code",
   "execution_count": 192,
   "id": "af729c78-f46f-4e31-88dc-d047ed783004",
   "metadata": {},
   "outputs": [
    {
     "data": {
      "image/png": "[encoded data removed]",
      "text/plain": [
       "<Figure size 800x800 with 4 Axes>"
      ]
     },
     "metadata": {},
     "output_type": "display_data"
    }
   ],
   "source": [
    "df.hist(figsize=(8,8), bins=100)\n",
    "plt.show()"
   ]
  },
  {
   "cell_type": "code",
   "execution_count": 193,
   "id": "54c1713d-b835-480b-b36a-f606f4437bd4",
   "metadata": {},
   "outputs": [
    {
     "data": {
      "text/html": [
       "<div>\n",
       "<style scoped>\n",
       "    .dataframe tbody tr th:only-of-type {\n",
       "        vertical-align: middle;\n",
       "    }\n",
       "\n",
       "    .dataframe tbody tr th {\n",
       "        vertical-align: top;\n",
       "    }\n",
       "\n",
       "    .dataframe thead th {\n",
       "        text-align: right;\n",
       "    }\n",
       "</style>\n",
       "<table border=\"1\" class=\"dataframe\">\n",
       "  <thead>\n",
       "    <tr style=\"text-align: right;\">\n",
       "      <th></th>\n",
       "      <th>releasedate</th>\n",
       "      <th>price</th>\n",
       "      <th>n_ratings</th>\n",
       "      <th>time_mins</th>\n",
       "    </tr>\n",
       "  </thead>\n",
       "  <tbody>\n",
       "    <tr>\n",
       "      <th>count</th>\n",
       "      <td>87489</td>\n",
       "      <td>87489.000000</td>\n",
       "      <td>15072.000000</td>\n",
       "      <td>87489.000000</td>\n",
       "    </tr>\n",
       "    <tr>\n",
       "      <th>mean</th>\n",
       "      <td>2018-06-22 01:35:29.780886528</td>\n",
       "      <td>559.009246</td>\n",
       "      <td>21.613190</td>\n",
       "      <td>417.497663</td>\n",
       "    </tr>\n",
       "    <tr>\n",
       "      <th>min</th>\n",
       "      <td>1998-12-27 00:00:00</td>\n",
       "      <td>0.000000</td>\n",
       "      <td>1.000000</td>\n",
       "      <td>1.000000</td>\n",
       "    </tr>\n",
       "    <tr>\n",
       "      <th>25%</th>\n",
       "      <td>2016-08-30 00:00:00</td>\n",
       "      <td>268.000000</td>\n",
       "      <td>1.000000</td>\n",
       "      <td>142.000000</td>\n",
       "    </tr>\n",
       "    <tr>\n",
       "      <th>50%</th>\n",
       "      <td>2020-01-30 00:00:00</td>\n",
       "      <td>585.000000</td>\n",
       "      <td>2.000000</td>\n",
       "      <td>386.000000</td>\n",
       "    </tr>\n",
       "    <tr>\n",
       "      <th>75%</th>\n",
       "      <td>2021-08-04 00:00:00</td>\n",
       "      <td>755.000000</td>\n",
       "      <td>7.000000</td>\n",
       "      <td>584.000000</td>\n",
       "    </tr>\n",
       "    <tr>\n",
       "      <th>max</th>\n",
       "      <td>2025-11-14 00:00:00</td>\n",
       "      <td>7198.000000</td>\n",
       "      <td>12573.000000</td>\n",
       "      <td>8595.000000</td>\n",
       "    </tr>\n",
       "    <tr>\n",
       "      <th>std</th>\n",
       "      <td>NaN</td>\n",
       "      <td>336.096642</td>\n",
       "      <td>207.479634</td>\n",
       "      <td>364.559399</td>\n",
       "    </tr>\n",
       "  </tbody>\n",
       "</table>\n",
       "</div>"
      ],
      "text/plain": [
       "                         releasedate         price     n_ratings     time_mins\n",
       "count                          87489  87489.000000  15072.000000  87489.000000\n",
       "mean   2018-06-22 01:35:29.780886528    559.009246     21.613190    417.497663\n",
       "min              1998-12-27 00:00:00      0.000000      1.000000      1.000000\n",
       "25%              2016-08-30 00:00:00    268.000000      1.000000    142.000000\n",
       "50%              2020-01-30 00:00:00    585.000000      2.000000    386.000000\n",
       "75%              2021-08-04 00:00:00    755.000000      7.000000    584.000000\n",
       "max              2025-11-14 00:00:00   7198.000000  12573.000000   8595.000000\n",
       "std                              NaN    336.096642    207.479634    364.559399"
      ]
     },
     "execution_count": 193,
     "metadata": {},
     "output_type": "execute_result"
    }
   ],
   "source": [
    "df.describe()"
   ]
  },
  {
   "cell_type": "code",
   "execution_count": 194,
   "id": "12e8d7f1-53cc-41c3-81c5-be2b777b1b4d",
   "metadata": {},
   "outputs": [
    {
     "data": {
      "text/html": [
       "<div>\n",
       "<style scoped>\n",
       "    .dataframe tbody tr th:only-of-type {\n",
       "        vertical-align: middle;\n",
       "    }\n",
       "\n",
       "    .dataframe tbody tr th {\n",
       "        vertical-align: top;\n",
       "    }\n",
       "\n",
       "    .dataframe thead th {\n",
       "        text-align: right;\n",
       "    }\n",
       "</style>\n",
       "<table border=\"1\" class=\"dataframe\">\n",
       "  <thead>\n",
       "    <tr style=\"text-align: right;\">\n",
       "      <th></th>\n",
       "      <th>name</th>\n",
       "      <th>author</th>\n",
       "      <th>narrator</th>\n",
       "      <th>releasedate</th>\n",
       "      <th>language</th>\n",
       "      <th>rating_stars</th>\n",
       "    </tr>\n",
       "  </thead>\n",
       "  <tbody>\n",
       "    <tr>\n",
       "      <th>count</th>\n",
       "      <td>87489</td>\n",
       "      <td>87489</td>\n",
       "      <td>87489</td>\n",
       "      <td>87489</td>\n",
       "      <td>87489</td>\n",
       "      <td>15072.0</td>\n",
       "    </tr>\n",
       "    <tr>\n",
       "      <th>unique</th>\n",
       "      <td>82767</td>\n",
       "      <td>48374</td>\n",
       "      <td>29717</td>\n",
       "      <td>NaN</td>\n",
       "      <td>36</td>\n",
       "      <td>9.0</td>\n",
       "    </tr>\n",
       "    <tr>\n",
       "      <th>top</th>\n",
       "      <td>The Art of War</td>\n",
       "      <td>矢島雅弘,石橋遊</td>\n",
       "      <td>anonymous</td>\n",
       "      <td>NaN</td>\n",
       "      <td>English</td>\n",
       "      <td>5.0</td>\n",
       "    </tr>\n",
       "    <tr>\n",
       "      <th>freq</th>\n",
       "      <td>20</td>\n",
       "      <td>874</td>\n",
       "      <td>1034</td>\n",
       "      <td>NaN</td>\n",
       "      <td>61884</td>\n",
       "      <td>6761.0</td>\n",
       "    </tr>\n",
       "    <tr>\n",
       "      <th>mean</th>\n",
       "      <td>NaN</td>\n",
       "      <td>NaN</td>\n",
       "      <td>NaN</td>\n",
       "      <td>2018-06-22 01:35:29.780886528</td>\n",
       "      <td>NaN</td>\n",
       "      <td>NaN</td>\n",
       "    </tr>\n",
       "    <tr>\n",
       "      <th>min</th>\n",
       "      <td>NaN</td>\n",
       "      <td>NaN</td>\n",
       "      <td>NaN</td>\n",
       "      <td>1998-12-27 00:00:00</td>\n",
       "      <td>NaN</td>\n",
       "      <td>NaN</td>\n",
       "    </tr>\n",
       "    <tr>\n",
       "      <th>25%</th>\n",
       "      <td>NaN</td>\n",
       "      <td>NaN</td>\n",
       "      <td>NaN</td>\n",
       "      <td>2016-08-30 00:00:00</td>\n",
       "      <td>NaN</td>\n",
       "      <td>NaN</td>\n",
       "    </tr>\n",
       "    <tr>\n",
       "      <th>50%</th>\n",
       "      <td>NaN</td>\n",
       "      <td>NaN</td>\n",
       "      <td>NaN</td>\n",
       "      <td>2020-01-30 00:00:00</td>\n",
       "      <td>NaN</td>\n",
       "      <td>NaN</td>\n",
       "    </tr>\n",
       "    <tr>\n",
       "      <th>75%</th>\n",
       "      <td>NaN</td>\n",
       "      <td>NaN</td>\n",
       "      <td>NaN</td>\n",
       "      <td>2021-08-04 00:00:00</td>\n",
       "      <td>NaN</td>\n",
       "      <td>NaN</td>\n",
       "    </tr>\n",
       "    <tr>\n",
       "      <th>max</th>\n",
       "      <td>NaN</td>\n",
       "      <td>NaN</td>\n",
       "      <td>NaN</td>\n",
       "      <td>2025-11-14 00:00:00</td>\n",
       "      <td>NaN</td>\n",
       "      <td>NaN</td>\n",
       "    </tr>\n",
       "  </tbody>\n",
       "</table>\n",
       "</div>"
      ],
      "text/plain": [
       "                  name    author   narrator                    releasedate  \\\n",
       "count            87489     87489      87489                          87489   \n",
       "unique           82767     48374      29717                            NaN   \n",
       "top     The Art of War  矢島雅弘,石橋遊  anonymous                            NaN   \n",
       "freq                20       874       1034                            NaN   \n",
       "mean               NaN       NaN        NaN  2018-06-22 01:35:29.780886528   \n",
       "min                NaN       NaN        NaN            1998-12-27 00:00:00   \n",
       "25%                NaN       NaN        NaN            2016-08-30 00:00:00   \n",
       "50%                NaN       NaN        NaN            2020-01-30 00:00:00   \n",
       "75%                NaN       NaN        NaN            2021-08-04 00:00:00   \n",
       "max                NaN       NaN        NaN            2025-11-14 00:00:00   \n",
       "\n",
       "       language  rating_stars  \n",
       "count     87489       15072.0  \n",
       "unique       36           9.0  \n",
       "top     English           5.0  \n",
       "freq      61884        6761.0  \n",
       "mean        NaN           NaN  \n",
       "min         NaN           NaN  \n",
       "25%         NaN           NaN  \n",
       "50%         NaN           NaN  \n",
       "75%         NaN           NaN  \n",
       "max         NaN           NaN  "
      ]
     },
     "execution_count": 194,
     "metadata": {},
     "output_type": "execute_result"
    }
   ],
   "source": [
    "#without number columns\n",
    "df.describe(exclude=[np.number])"
   ]
  },
  {
   "cell_type": "code",
   "execution_count": 195,
   "id": "f9c9b2bb-daf3-4aa6-88a9-f13ba6d59f7b",
   "metadata": {},
   "outputs": [],
   "source": [
    "#change to USD\n",
    "df['price'] = df.price * 0.012"
   ]
  },
  {
   "cell_type": "code",
   "execution_count": 196,
   "id": "91a33f78-c9d8-4f2b-9879-6945f966fdb9",
   "metadata": {},
   "outputs": [
    {
     "data": {
      "text/plain": [
       "array(['English', 'Hindi', 'spanish', 'german', 'french', 'catalan',\n",
       "       'swedish', 'italian', 'danish', 'finnish', 'dutch', 'hebrew',\n",
       "       'russian', 'polish', 'galician', 'afrikaans', 'icelandic',\n",
       "       'romanian', 'japanese', 'tamil', 'portuguese', 'urdu', 'hungarian',\n",
       "       'czech', 'bulgarian', 'mandarin_chinese', 'basque', 'korean',\n",
       "       'arabic', 'greek', 'turkish', 'ukrainian', 'slovene', 'norwegian',\n",
       "       'telugu', 'lithuanian'], dtype=object)"
      ]
     },
     "execution_count": 196,
     "metadata": {},
     "output_type": "execute_result"
    }
   ],
   "source": [
    "df.language.unique()"
   ]
  },
  {
   "cell_type": "code",
   "execution_count": 197,
   "id": "54bda913-7997-4583-bfca-2fb9f3102dde",
   "metadata": {},
   "outputs": [],
   "source": [
    "df['language'] = df.language.str.capitalize()"
   ]
  },
  {
   "cell_type": "markdown",
   "id": "aaa0d4c9-d0dc-4254-bbd4-c232bb46e130",
   "metadata": {},
   "source": [
    "***Checking for duplicates***"
   ]
  },
  {
   "cell_type": "code",
   "execution_count": 199,
   "id": "2d32634d-1f0b-4251-ba58-092b8f642856",
   "metadata": {},
   "outputs": [
    {
     "data": {
      "text/plain": [
       "0"
      ]
     },
     "execution_count": 199,
     "metadata": {},
     "output_type": "execute_result"
    }
   ],
   "source": [
    "df.duplicated().sum()"
   ]
  },
  {
   "cell_type": "code",
   "execution_count": 200,
   "id": "8018f8e4-5dfc-4548-b3ff-bd6eeae5ff8a",
   "metadata": {},
   "outputs": [
    {
     "data": {
      "text/plain": [
       "70"
      ]
     },
     "execution_count": 200,
     "metadata": {},
     "output_type": "execute_result"
    }
   ],
   "source": [
    "subset_cols = ['name','author','narrator','time_mins','price']\n",
    "df.duplicated(subset=subset_cols).sum()"
   ]
  },
  {
   "cell_type": "code",
   "execution_count": 202,
   "id": "e172713b-e0aa-4fad-945f-d1fc5a43579f",
   "metadata": {},
   "outputs": [
    {
     "data": {
      "text/html": [
       "<div>\n",
       "<style scoped>\n",
       "    .dataframe tbody tr th:only-of-type {\n",
       "        vertical-align: middle;\n",
       "    }\n",
       "\n",
       "    .dataframe tbody tr th {\n",
       "        vertical-align: top;\n",
       "    }\n",
       "\n",
       "    .dataframe thead th {\n",
       "        text-align: right;\n",
       "    }\n",
       "</style>\n",
       "<table border=\"1\" class=\"dataframe\">\n",
       "  <thead>\n",
       "    <tr style=\"text-align: right;\">\n",
       "      <th></th>\n",
       "      <th>name</th>\n",
       "      <th>author</th>\n",
       "      <th>narrator</th>\n",
       "      <th>releasedate</th>\n",
       "      <th>language</th>\n",
       "      <th>price</th>\n",
       "      <th>rating_stars</th>\n",
       "      <th>n_ratings</th>\n",
       "      <th>time_mins</th>\n",
       "    </tr>\n",
       "  </thead>\n",
       "  <tbody>\n",
       "    <tr>\n",
       "      <th>63978</th>\n",
       "      <td>\"Das Böse ist des Menschen beste Kraft\"</td>\n",
       "      <td>ChristianLiederer</td>\n",
       "      <td>ThomasKrause</td>\n",
       "      <td>2021-12-14</td>\n",
       "      <td>German</td>\n",
       "      <td>2.796</td>\n",
       "      <td>NaN</td>\n",
       "      <td>NaN</td>\n",
       "      <td>144</td>\n",
       "    </tr>\n",
       "    <tr>\n",
       "      <th>63965</th>\n",
       "      <td>\"Das Böse ist des Menschen beste Kraft\"</td>\n",
       "      <td>ChristianLiederer</td>\n",
       "      <td>ThomasKrause</td>\n",
       "      <td>2021-12-23</td>\n",
       "      <td>German</td>\n",
       "      <td>2.796</td>\n",
       "      <td>NaN</td>\n",
       "      <td>NaN</td>\n",
       "      <td>144</td>\n",
       "    </tr>\n",
       "    <tr>\n",
       "      <th>24625</th>\n",
       "      <td>90 Minutes in Heaven</td>\n",
       "      <td>DonPiper,CecilMurphey</td>\n",
       "      <td>DonPiper</td>\n",
       "      <td>2015-09-25</td>\n",
       "      <td>English</td>\n",
       "      <td>7.032</td>\n",
       "      <td>NaN</td>\n",
       "      <td>NaN</td>\n",
       "      <td>495</td>\n",
       "    </tr>\n",
       "    <tr>\n",
       "      <th>24116</th>\n",
       "      <td>90 Minutes in Heaven</td>\n",
       "      <td>DonPiper,CecilMurphey</td>\n",
       "      <td>DonPiper</td>\n",
       "      <td>2020-10-15</td>\n",
       "      <td>English</td>\n",
       "      <td>7.032</td>\n",
       "      <td>NaN</td>\n",
       "      <td>NaN</td>\n",
       "      <td>495</td>\n",
       "    </tr>\n",
       "    <tr>\n",
       "      <th>16971</th>\n",
       "      <td>Adagio in Dm</td>\n",
       "      <td>BillBrown</td>\n",
       "      <td>BillBrown</td>\n",
       "      <td>2021-06-08</td>\n",
       "      <td>English</td>\n",
       "      <td>5.472</td>\n",
       "      <td>NaN</td>\n",
       "      <td>NaN</td>\n",
       "      <td>78</td>\n",
       "    </tr>\n",
       "    <tr>\n",
       "      <th>...</th>\n",
       "      <td>...</td>\n",
       "      <td>...</td>\n",
       "      <td>...</td>\n",
       "      <td>...</td>\n",
       "      <td>...</td>\n",
       "      <td>...</td>\n",
       "      <td>...</td>\n",
       "      <td>...</td>\n",
       "      <td>...</td>\n",
       "    </tr>\n",
       "    <tr>\n",
       "      <th>18338</th>\n",
       "      <td>What I Talk About When I Talk About Running</td>\n",
       "      <td>HarukiMurakami</td>\n",
       "      <td>RayPorter</td>\n",
       "      <td>2016-07-07</td>\n",
       "      <td>English</td>\n",
       "      <td>4.776</td>\n",
       "      <td>4.5</td>\n",
       "      <td>193.0</td>\n",
       "      <td>263</td>\n",
       "    </tr>\n",
       "    <tr>\n",
       "      <th>38021</th>\n",
       "      <td>When Women Ruled the World</td>\n",
       "      <td>KaraCooney</td>\n",
       "      <td>KaraCooney</td>\n",
       "      <td>2018-11-30</td>\n",
       "      <td>English</td>\n",
       "      <td>10.032</td>\n",
       "      <td>4.5</td>\n",
       "      <td>14.0</td>\n",
       "      <td>555</td>\n",
       "    </tr>\n",
       "    <tr>\n",
       "      <th>20260</th>\n",
       "      <td>When Women Ruled the World</td>\n",
       "      <td>KaraCooney</td>\n",
       "      <td>KaraCooney</td>\n",
       "      <td>2018-11-30</td>\n",
       "      <td>English</td>\n",
       "      <td>10.032</td>\n",
       "      <td>4.5</td>\n",
       "      <td>13.0</td>\n",
       "      <td>555</td>\n",
       "    </tr>\n",
       "    <tr>\n",
       "      <th>22158</th>\n",
       "      <td>Wings of Fire</td>\n",
       "      <td>APJAbdulKalam,ArunTiwari</td>\n",
       "      <td>GirishKarnad</td>\n",
       "      <td>2020-01-04</td>\n",
       "      <td>English</td>\n",
       "      <td>0.900</td>\n",
       "      <td>5.0</td>\n",
       "      <td>1823.0</td>\n",
       "      <td>75</td>\n",
       "    </tr>\n",
       "    <tr>\n",
       "      <th>64428</th>\n",
       "      <td>Wings of Fire</td>\n",
       "      <td>APJAbdulKalam,ArunTiwari</td>\n",
       "      <td>GirishKarnad</td>\n",
       "      <td>2020-01-04</td>\n",
       "      <td>English</td>\n",
       "      <td>0.900</td>\n",
       "      <td>5.0</td>\n",
       "      <td>1827.0</td>\n",
       "      <td>75</td>\n",
       "    </tr>\n",
       "  </tbody>\n",
       "</table>\n",
       "<p>139 rows × 9 columns</p>\n",
       "</div>"
      ],
      "text/plain": [
       "                                              name                    author  \\\n",
       "63978      \"Das Böse ist des Menschen beste Kraft\"         ChristianLiederer   \n",
       "63965      \"Das Böse ist des Menschen beste Kraft\"         ChristianLiederer   \n",
       "24625                         90 Minutes in Heaven     DonPiper,CecilMurphey   \n",
       "24116                         90 Minutes in Heaven     DonPiper,CecilMurphey   \n",
       "16971                                 Adagio in Dm                 BillBrown   \n",
       "...                                            ...                       ...   \n",
       "18338  What I Talk About When I Talk About Running            HarukiMurakami   \n",
       "38021                   When Women Ruled the World                KaraCooney   \n",
       "20260                   When Women Ruled the World                KaraCooney   \n",
       "22158                                Wings of Fire  APJAbdulKalam,ArunTiwari   \n",
       "64428                                Wings of Fire  APJAbdulKalam,ArunTiwari   \n",
       "\n",
       "           narrator releasedate language   price rating_stars  n_ratings  \\\n",
       "63978  ThomasKrause  2021-12-14   German   2.796          NaN        NaN   \n",
       "63965  ThomasKrause  2021-12-23   German   2.796          NaN        NaN   \n",
       "24625      DonPiper  2015-09-25  English   7.032          NaN        NaN   \n",
       "24116      DonPiper  2020-10-15  English   7.032          NaN        NaN   \n",
       "16971     BillBrown  2021-06-08  English   5.472          NaN        NaN   \n",
       "...             ...         ...      ...     ...          ...        ...   \n",
       "18338     RayPorter  2016-07-07  English   4.776          4.5      193.0   \n",
       "38021    KaraCooney  2018-11-30  English  10.032          4.5       14.0   \n",
       "20260    KaraCooney  2018-11-30  English  10.032          4.5       13.0   \n",
       "22158  GirishKarnad  2020-01-04  English   0.900          5.0     1823.0   \n",
       "64428  GirishKarnad  2020-01-04  English   0.900          5.0     1827.0   \n",
       "\n",
       "       time_mins  \n",
       "63978        144  \n",
       "63965        144  \n",
       "24625        495  \n",
       "24116        495  \n",
       "16971         78  \n",
       "...          ...  \n",
       "18338        263  \n",
       "38021        555  \n",
       "20260        555  \n",
       "22158         75  \n",
       "64428         75  \n",
       "\n",
       "[139 rows x 9 columns]"
      ]
     },
     "execution_count": 202,
     "metadata": {},
     "output_type": "execute_result"
    }
   ],
   "source": [
    "#The keeps=False ensures that all occurrences of duplicates are marked as True.\n",
    "df[df.duplicated(subset=subset_cols, keep=False)].sort_values(by='name')"
   ]
  },
  {
   "cell_type": "code",
   "execution_count": 203,
   "id": "53e82d8d-2497-491e-a489-d67ab61beb5f",
   "metadata": {},
   "outputs": [],
   "source": [
    "df.drop_duplicates(subset=subset_cols, keep='last', inplace=True)"
   ]
  },
  {
   "cell_type": "code",
   "execution_count": 204,
   "id": "bd433489-4b4b-49ed-baa3-115fa3fa6868",
   "metadata": {},
   "outputs": [
    {
     "data": {
      "text/plain": [
       "0"
      ]
     },
     "execution_count": 204,
     "metadata": {},
     "output_type": "execute_result"
    }
   ],
   "source": [
    "df.duplicated(subset=subset_cols).sum()"
   ]
  },
  {
   "cell_type": "markdown",
   "id": "ea23f707-a5d6-44fb-a168-e91744f4f0ac",
   "metadata": {},
   "source": [
    " ***Dealing with missing data***"
   ]
  },
  {
   "cell_type": "code",
   "execution_count": 205,
   "id": "a2b6ca23-8a1a-4e2b-a950-b5391922648d",
   "metadata": {},
   "outputs": [
    {
     "data": {
      "text/plain": [
       "name                0\n",
       "author              0\n",
       "narrator            0\n",
       "releasedate         0\n",
       "language            0\n",
       "price               0\n",
       "rating_stars    72387\n",
       "n_ratings       72387\n",
       "time_mins           0\n",
       "dtype: int64"
      ]
     },
     "execution_count": 205,
     "metadata": {},
     "output_type": "execute_result"
    }
   ],
   "source": [
    "df.isna().sum()"
   ]
  },
  {
   "cell_type": "markdown",
   "id": "2eac5e79-5981-4397-9158-8bfdff54d207",
   "metadata": {},
   "source": [
    "***Save***"
   ]
  },
  {
   "cell_type": "code",
   "execution_count": null,
   "id": "39ee7762-dce9-4f73-95ff-4dec242bace9",
   "metadata": {},
   "outputs": [],
   "source": [
    "df.to_csv(r\"C:\\Users\\yarde\\Downloads\\audible_clean.csv\")"
   ]
  }
 ],
 "metadata": {
  "kernelspec": {
   "display_name": "Python 3 (ipykernel)",
   "language": "python",
   "name": "python3"
  },
  "language_info": {
   "codemirror_mode": {
    "name": "ipython",
    "version": 3
   },
   "file_extension": ".py",
   "mimetype": "text/x-python",
   "name": "python",
   "nbconvert_exporter": "python",
   "pygments_lexer": "ipython3",
   "version": "3.12.1"
  }
 },
 "nbformat": 4,
 "nbformat_minor": 5
}
