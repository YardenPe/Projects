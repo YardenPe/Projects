{
 "cells": [
  {
   "cell_type": "markdown",
   "id": "084e65f5-86ed-4d41-a807-9a9b43ec5a8c",
   "metadata": {},
   "source": [
    "**Data Classes**"
   ]
  },
  {
   "cell_type": "code",
   "execution_count": 224,
   "id": "2bf54cef-f1aa-46e5-b3c4-deebabfb4bcd",
   "metadata": {},
   "outputs": [],
   "source": [
    "class Sentiment:\n",
    "    NEGATIVE = \"NEGATIVE\"\n",
    "    NEUTRAL=\"NEUTRAL\"\n",
    "    POSITIVE =\"POSITIVE\"\n",
    "\n",
    "class Review:\n",
    "    def __init__(self, text, score):\n",
    "        self.text = text\n",
    "        self.score = score\n",
    "        #gets whatever the get_sentiment function returns\n",
    "        self.sentiment = self.get_sentiment()\n",
    "    \n",
    "    def get_sentiment(self):\n",
    "        if self.score <= 2:\n",
    "            return Sentiment.NEGATIVE\n",
    "        elif self.score == 3:\n",
    "            return Sentiment.NEUTRAL\n",
    "        else:\n",
    "            return Sentiment.POSITIVE"
   ]
  },
  {
   "cell_type": "markdown",
   "id": "f6720007-0903-4317-86de-d1dee6e3847d",
   "metadata": {},
   "source": [
    "**Load Data** - Upload json file comments and stars from amazon fidebacks"
   ]
  },
  {
   "cell_type": "code",
   "execution_count": 225,
   "id": "3ac66fe1-2b00-4585-b9f6-49d584eb3148",
   "metadata": {},
   "outputs": [
    {
     "data": {
      "text/plain": [
       "'I hoped for Mia to have some peace in this book, but her story is so real and raw.  Broken World was so touching and emotional because you go from Mia\\'s trauma to her trying to cope.  I love the way the story displays how there is no \"just bouncing back\" from being sexually assaulted.  Mia showed us how those demons come for you every day and how sometimes they best you. I was so in the moment with Broken World and hurt with Mia because she was surrounded by people but so alone and I understood her feelings.  I found myself wishing I could give her some of my courage and strength or even just to be there for her.  Thank you Lizzy for putting a great character\\'s voice on a strong subject and making it so that other peoples story may be heard through Mia\\'s.'"
      ]
     },
     "execution_count": 225,
     "metadata": {},
     "output_type": "execute_result"
    }
   ],
   "source": [
    "import json\n",
    "\n",
    "file_name = r'C:\\Users\\yarde\\Downloads\\Books_small_10000.json'\n",
    "\n",
    "reviews = []\n",
    "with open(file_name) as f:\n",
    "    for line in f:\n",
    "        review = json.loads(line)\n",
    "        #make a list of tuples\n",
    "        reviews.append(Review(review['reviewText'], review['overall']))\n",
    "reviews[5].text"
   ]
  },
  {
   "cell_type": "code",
   "execution_count": 226,
   "id": "c5036842-1f06-4a9d-87e6-830af001a0f9",
   "metadata": {},
   "outputs": [
    {
     "data": {
      "text/plain": [
       "'POSITIVE'"
      ]
     },
     "execution_count": 226,
     "metadata": {},
     "output_type": "execute_result"
    }
   ],
   "source": [
    "reviews[5].sentiment"
   ]
  },
  {
   "cell_type": "markdown",
   "id": "147f7446-fed2-433b-bac0-0c95e5caa95a",
   "metadata": {},
   "source": [
    "**Prep Data**"
   ]
  },
  {
   "cell_type": "code",
   "execution_count": 227,
   "id": "b7cd68f8-27f8-4516-924c-26a387afdf8a",
   "metadata": {},
   "outputs": [
    {
     "name": "stdout",
     "output_type": "stream",
     "text": [
      "I loved it!!  It is an amazing love story that comes with a lot of emotions!!  It turns out, that both Livvie and Kaleb are both tortured souls. Even though he was hired to kidnap her, he protects her all the time.\n"
     ]
    }
   ],
   "source": [
    "from sklearn.model_selection import train_test_split\n",
    "\n",
    "training, test = train_test_split(reviews, test_size=0.33, random_state=42)\n",
    "print(training[10].text)"
   ]
  },
  {
   "cell_type": "code",
   "execution_count": 228,
   "id": "5c54c34f-afbe-4a7d-9ad6-a060c1b3ccad",
   "metadata": {},
   "outputs": [],
   "source": [
    "#x will be the text and y will be the positive/negative\n",
    "train_x = [x.text for x in training]\n",
    "train_y = [x.sentiment for x in training]\n",
    "test_x = [x.text for x in test]\n",
    "test_y = [x.sentiment for x in test]"
   ]
  },
  {
   "cell_type": "markdown",
   "id": "44316022-69e9-4202-bee6-31f66f47e95f",
   "metadata": {},
   "source": [
    "**Bags Of Words**"
   ]
  },
  {
   "cell_type": "code",
   "execution_count": 229,
   "id": "c26edfaa-985d-43ed-90b9-b4fbe4c976ae",
   "metadata": {},
   "outputs": [
    {
     "name": "stdout",
     "output_type": "stream",
     "text": [
      "Olivia Hampton arrives at the Dunraven family home as cataloger of their extensive library. What she doesn't expect is a broken carriage wheel on the way. Nor a young girl whose mind is clearly gone, an old man in need of care himself (and doesn&#8217;t quite seem all there in Olivia&#8217;s opinion). Furthermore, Marion Dunraven, the only sane one of the bunch and the one Olivia is inexplicable drawn to, seems captive to everyone in the dusty old house. More importantly, she doesn't expect to fall in love with Dunraven's daughter Marion.Can Olivia truly believe the stories of sadness and death that surround the house, or are they all just local neighborhood rumor?Was that carriage trouble just a coincidence or a supernatural sign to stay away? If she remains, will the Castle&#8217;s dark shadows take Olivia down with them or will she and Marion long enough to declare their love?Patty G. Henderson has created an atmospheric and intriguing story in her Gothic tale. I found this to be an enjoyable read, even if it isn&#8217;t my usual preferred genre. I think, with this tale, I got hooked on the old Gothic romantic style. So I think fans of the genre (and of lesbian romances) will enjoy it.\n",
      "[[0 0 0 ... 0 0 0]]\n"
     ]
    }
   ],
   "source": [
    "from sklearn.feature_extraction.text import CountVectorizer\n",
    "\n",
    "# to turn text documents into numerical features\n",
    "vectorizer = CountVectorizer()\n",
    "train_x_vectors = vectorizer.fit_transform(train_x)\n",
    "test_x_vectors = vectorizer.transform(test_x)\n",
    "print(train_x[0])\n",
    "print(train_x_vectors[0].toarray())"
   ]
  },
  {
   "cell_type": "markdown",
   "id": "68696c29-5b24-47bf-8e16-6447c7128615",
   "metadata": {},
   "source": [
    "**Classification**"
   ]
  },
  {
   "cell_type": "markdown",
   "id": "6c9021d8-9f0d-4f83-aab7-c97bca830613",
   "metadata": {},
   "source": [
    "Linear SVM"
   ]
  },
  {
   "cell_type": "code",
   "execution_count": 230,
   "id": "11415fdc-cde5-42c4-aebd-5cd40762b912",
   "metadata": {},
   "outputs": [
    {
     "data": {
      "text/plain": [
       "array(['POSITIVE'], dtype='<U8')"
      ]
     },
     "execution_count": 230,
     "metadata": {},
     "output_type": "execute_result"
    }
   ],
   "source": [
    "from sklearn import svm\n",
    "\n",
    "clf_svm=svm.SVC(kernel='linear')\n",
    "clf_svm.fit(train_x_vectors, train_y)\n",
    "clf_svm.predict(test_x_vectors[0])"
   ]
  },
  {
   "cell_type": "markdown",
   "id": "aa4ecd0c-bd0a-46b3-822f-a38a84d004f7",
   "metadata": {},
   "source": [
    "Decision Tree"
   ]
  },
  {
   "cell_type": "code",
   "execution_count": 231,
   "id": "fbbcdf11-d037-4573-8c02-e3b310971487",
   "metadata": {},
   "outputs": [
    {
     "data": {
      "text/plain": [
       "array(['POSITIVE'], dtype='<U8')"
      ]
     },
     "execution_count": 231,
     "metadata": {},
     "output_type": "execute_result"
    }
   ],
   "source": [
    "from sklearn.tree import DecisionTreeClassifier\n",
    "\n",
    "clf_dec = DecisionTreeClassifier()\n",
    "clf_dec.fit(train_x_vectors, train_y)\n",
    "clf_dec.predict(test_x_vectors[0])"
   ]
  },
  {
   "cell_type": "markdown",
   "id": "7420b26f-6c62-4fb2-a3c9-fb8ce3837733",
   "metadata": {},
   "source": [
    "Logistic Regression"
   ]
  },
  {
   "cell_type": "code",
   "execution_count": 232,
   "id": "213ef572-fc1b-4495-8f73-e6c437aba235",
   "metadata": {},
   "outputs": [
    {
     "name": "stderr",
     "output_type": "stream",
     "text": [
      "C:\\Users\\yarde\\AppData\\Local\\Programs\\Python\\Python312\\Lib\\site-packages\\sklearn\\linear_model\\_logistic.py:469: ConvergenceWarning: lbfgs failed to converge (status=1):\n",
      "STOP: TOTAL NO. of ITERATIONS REACHED LIMIT.\n",
      "\n",
      "Increase the number of iterations (max_iter) or scale the data as shown in:\n",
      "    https://scikit-learn.org/stable/modules/preprocessing.html\n",
      "Please also refer to the documentation for alternative solver options:\n",
      "    https://scikit-learn.org/stable/modules/linear_model.html#logistic-regression\n",
      "  n_iter_i = _check_optimize_result(\n"
     ]
    },
    {
     "data": {
      "text/plain": [
       "array(['POSITIVE'], dtype='<U8')"
      ]
     },
     "execution_count": 232,
     "metadata": {},
     "output_type": "execute_result"
    }
   ],
   "source": [
    "from sklearn.linear_model import LogisticRegression\n",
    "\n",
    "clf_log = LogisticRegression()\n",
    "clf_log.fit(train_x_vectors, train_y)\n",
    "clf_log.predict(test_x_vectors[0])"
   ]
  },
  {
   "cell_type": "markdown",
   "id": "f94fe115-ed94-4c23-968a-9f692d0e0038",
   "metadata": {},
   "source": [
    "**Evaluating Models**"
   ]
  },
  {
   "cell_type": "code",
   "execution_count": 233,
   "id": "1e2bef0e-2922-4573-b898-a7b32e9545af",
   "metadata": {},
   "outputs": [
    {
     "name": "stdout",
     "output_type": "stream",
     "text": [
      "0.8124242424242424\n",
      "0.7715151515151515\n",
      "0.8409090909090909\n"
     ]
    }
   ],
   "source": [
    "# Mean Accuracy\n",
    "print(clf_svm.score(test_x_vectors, test_y))\n",
    "print(clf_dec.score(test_x_vectors, test_y))\n",
    "print(clf_log.score(test_x_vectors, test_y))"
   ]
  },
  {
   "cell_type": "code",
   "execution_count": 234,
   "id": "5d15c4a4-bd75-4b29-9459-0004370d6f14",
   "metadata": {},
   "outputs": [
    {
     "name": "stdout",
     "output_type": "stream",
     "text": [
      "[0.90738061 0.2656     0.40268456]\n",
      "[0.87579844 0.15437393 0.17322835]\n",
      "[0.92139968 0.29250457 0.40983607]\n"
     ]
    }
   ],
   "source": [
    "# F1 Score (more important for evaluating models)\n",
    "from sklearn.metrics import f1_score\n",
    "labels = [Sentiment.POSITIVE, Sentiment.NEUTRAL, Sentiment.NEGATIVE]\n",
    "print(f1_score(test_y, clf_svm.predict(test_x_vectors), average=None, labels=labels))\n",
    "print(f1_score(test_y, clf_dec.predict(test_x_vectors), average=None, labels=labels))\n",
    "print(f1_score(test_y, clf_log.predict(test_x_vectors), average=None, labels=labels))\n",
    "#performs good only on positives"
   ]
  },
  {
   "cell_type": "code",
   "execution_count": 235,
   "id": "2f8c8aae-2c43-4af2-a8dc-2f14dbd8c406",
   "metadata": {},
   "outputs": [
    {
     "name": "stdout",
     "output_type": "stream",
     "text": [
      "5611\n",
      "653\n",
      "436\n"
     ]
    }
   ],
   "source": [
    "print(train_y.count(Sentiment.POSITIVE))\n",
    "print(train_y.count(Sentiment.NEUTRAL))\n",
    "print(train_y.count(Sentiment.NEGATIVE))\n",
    "#no balance in the data"
   ]
  },
  {
   "cell_type": "code",
   "execution_count": null,
   "id": "fd875071-092b-49d7-b8f6-a55cccd066a5",
   "metadata": {},
   "outputs": [],
   "source": []
  }
 ],
 "metadata": {
  "kernelspec": {
   "display_name": "",
   "name": ""
  },
  "language_info": {
   "name": ""
  }
 },
 "nbformat": 4,
 "nbformat_minor": 5
}
